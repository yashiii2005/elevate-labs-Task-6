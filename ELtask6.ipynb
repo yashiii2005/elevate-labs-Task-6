{
 "cells": [
  {
   "cell_type": "code",
   "execution_count": 3,
   "id": "bd5fa558-e156-4add-9711-119d6e626e12",
   "metadata": {},
   "outputs": [
    {
     "name": "stdout",
     "output_type": "stream",
     "text": [
      "Requirement already satisfied: flask in c:\\users\\lenovo\\anaconda3\\lib\\site-packages (2.2.5)\n",
      "Requirement already satisfied: Werkzeug>=2.2.2 in c:\\users\\lenovo\\anaconda3\\lib\\site-packages (from flask) (2.2.3)\n",
      "Requirement already satisfied: Jinja2>=3.0 in c:\\users\\lenovo\\anaconda3\\lib\\site-packages (from flask) (3.1.3)\n",
      "Requirement already satisfied: itsdangerous>=2.0 in c:\\users\\lenovo\\anaconda3\\lib\\site-packages (from flask) (2.0.1)\n",
      "Requirement already satisfied: click>=8.0 in c:\\users\\lenovo\\anaconda3\\lib\\site-packages (from flask) (8.1.7)\n",
      "Requirement already satisfied: colorama in c:\\users\\lenovo\\anaconda3\\lib\\site-packages (from click>=8.0->flask) (0.4.6)\n",
      "Requirement already satisfied: MarkupSafe>=2.0 in c:\\users\\lenovo\\anaconda3\\lib\\site-packages (from Jinja2>=3.0->flask) (2.1.3)\n",
      "Note: you may need to restart the kernel to use updated packages.\n"
     ]
    }
   ],
   "source": [
    "pip install flask"
   ]
  },
  {
   "cell_type": "code",
   "execution_count": 7,
   "id": "abeb8c3d-4105-4aad-adb2-5da9c822dae2",
   "metadata": {},
   "outputs": [],
   "source": [
    "from flask import Flask, render_template_string, request\n",
    "\n",
    "app = Flask(__name__)\n",
    "\n",
    "personal = {\n",
    "    \"name\": \"Yashasvi Goswami\",\n",
    "    \"email\": \"goswamiyashasvi24@gmail.com\",\n",
    "    \"phone\": \"7017887123\",\n",
    "    \"bio\": \"Final-year BSc Physical Science with Computer Science student at Miranda House, University of Delhi. Passionate about programming, AI, linguistics, and learning.\"\n",
    "}\n",
    "experiences = [\n",
    "    {\"role\": \"Content Writer\", \"company\": \"Pehchaan The Street School Trust\", \"period\": \"Sep 2025 - Present\", \"desc\": \"Digital content strategy, SEO writing, fundraising campaigns.\"},\n",
    "    {\"role\": \"Research Planning Member\", \"company\": \"Selfless Sewa NGO\", \"period\": \"Aug 2025 - Present\", \"desc\": \"Community research, outreach, presentations.\"}\n",
    "]\n",
    "education = [\n",
    "    {\"degree\": \"BSc Physical Science with Computer Science\", \"school\": \"Miranda House, Delhi\", \"date\": \"Aug 2026\"},\n",
    "    {\"degree\": \"Diploma, Japanese Language\", \"school\": \"St. Stephens College\", \"date\": \"May 2025\"}\n",
    "]\n",
    "skills = [\n",
    "    \"Digital Media\", \"Predictive Modeling\", \"Deep Learning\", \"Web Development\", \"Data Analysis\", \"Python\", \"HTML\", \"C\", \"English\", \"Hindi\", \"Japanese\"\n",
    "]"
   ]
  },
  {
   "cell_type": "code",
   "execution_count": 8,
   "id": "a11f2c46-6473-4369-aa87-96cf19cfa07a",
   "metadata": {},
   "outputs": [],
   "source": [
    "index_template = \"\"\"\n",
    "<!DOCTYPE html>\n",
    "<html>\n",
    "<head>\n",
    "    <title>{{ personal.name }} - Portfolio</title>\n",
    "</head>\n",
    "<body>\n",
    "    <h1>{{ personal.name }}</h1>\n",
    "    <p><b>Email:</b> {{ personal.email }} | <b>Phone:</b> {{ personal.phone }}</p>\n",
    "    <p><b>Bio:</b> {{ personal.bio }}</p>\n",
    "\n",
    "    <h2>Skills</h2>\n",
    "    <ul>{% for skill in skills %}<li>{{ skill }}</li>{% endfor %}</ul>\n",
    "\n",
    "    <h2>Experience</h2>\n",
    "    {% for exp in experiences %}\n",
    "      <div>\n",
    "         <strong>{{ exp.role }}, {{ exp.company }}</strong> ({{ exp.period }})\n",
    "         <p>{{ exp.desc }}</p>\n",
    "      </div>\n",
    "    {% endfor %}\n",
    "\n",
    "    <h2>Education</h2>\n",
    "    <ul>\n",
    "      {% for edu in education %}\n",
    "        <li><b>{{ edu.degree }}</b> | {{ edu.school }} ({{ edu.date }})</li>\n",
    "      {% endfor %}\n",
    "    </ul>\n",
    "\n",
    "    <a href=\"/contact\">Contact Me</a>\n",
    "</body>\n",
    "</html>\n",
    "\"\"\"\n",
    "\n",
    "contact_template = \"\"\"\n",
    "<!DOCTYPE html>\n",
    "<html>\n",
    "<head><title>Contact</title></head>\n",
    "<body>\n",
    "  <h2>Contact Me</h2>\n",
    "  <form method=\"post\">\n",
    "    <input type=\"text\" name=\"name\" placeholder=\"Your name\" required>\n",
    "    <input type=\"email\" name=\"email\" placeholder=\"Your email\" required>\n",
    "    <textarea name=\"message\" placeholder=\"Your message\" required></textarea>\n",
    "    <button type=\"submit\">Send</button>\n",
    "  </form>\n",
    "</body>\n",
    "</html>\n",
    "\"\"\"\n",
    "\n",
    "success_template = \"\"\"\n",
    "<!DOCTYPE html>\n",
    "<html>\n",
    "<head><title>Message Sent</title></head>\n",
    "<body>\n",
    "  <h2>Thank you, {{ name }}! Your message has been sent.</h2>\n",
    "  <a href=\"/\">Back to Home</a>\n",
    "</body>\n",
    "</html>\n",
    "\"\"\"\n",
    "\n",
    "@app.route(\"/\")\n",
    "def home():\n",
    "    return render_template_string(index_template, personal=personal, experiences=experiences, education=education, skills=skills)\n",
    "\n",
    "@app.route(\"/contact\", methods=[\"GET\", \"POST\"])\n",
    "def contact():\n",
    "    if request.method == \"POST\":\n",
    "        name = request.form['name']\n",
    "        email = request.form['email']\n",
    "        message = request.form['message']\n",
    "        return render_template_string(success_template, name=name)\n",
    "    return render_template_string(contact_template)\n"
   ]
  },
  {
   "cell_type": "code",
   "execution_count": null,
   "id": "79188b31-2ae9-4c9f-a6ea-c8b43e042e74",
   "metadata": {},
   "outputs": [
    {
     "name": "stdout",
     "output_type": "stream",
     "text": [
      " * Serving Flask app '__main__'\n",
      " * Debug mode: off\n"
     ]
    },
    {
     "name": "stderr",
     "output_type": "stream",
     "text": [
      "WARNING: This is a development server. Do not use it in a production deployment. Use a production WSGI server instead.\n",
      " * Running on http://127.0.0.1:5000\n",
      "Press CTRL+C to quit\n",
      "127.0.0.1 - - [01/Oct/2025 20:03:20] \"GET / HTTP/1.1\" 200 -\n",
      "127.0.0.1 - - [01/Oct/2025 20:03:20] \"GET /favicon.ico HTTP/1.1\" 404 -\n",
      "127.0.0.1 - - [01/Oct/2025 20:03:28] \"GET /contact HTTP/1.1\" 200 -\n"
     ]
    }
   ],
   "source": [
    "if __name__ == \"__main__\":\n",
    "    app.run(port=5000)\n"
   ]
  },
  {
   "cell_type": "code",
   "execution_count": null,
   "id": "4a3e16d3-2bed-4513-921f-dab36edf88c7",
   "metadata": {},
   "outputs": [],
   "source": []
  }
 ],
 "metadata": {
  "kernelspec": {
   "display_name": "Python 3 (ipykernel)",
   "language": "python",
   "name": "python3"
  },
  "language_info": {
   "codemirror_mode": {
    "name": "ipython",
    "version": 3
   },
   "file_extension": ".py",
   "mimetype": "text/x-python",
   "name": "python",
   "nbconvert_exporter": "python",
   "pygments_lexer": "ipython3",
   "version": "3.11.7"
  }
 },
 "nbformat": 4,
 "nbformat_minor": 5
}
